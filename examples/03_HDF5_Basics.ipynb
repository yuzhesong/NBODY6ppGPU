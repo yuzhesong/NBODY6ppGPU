{
 "cells": [
  {
   "cell_type": "code",
   "execution_count": 1,
   "id": "52d4a9f3",
   "metadata": {},
   "outputs": [],
   "source": [
    "# import some basics\n",
    "import numpy as np\n",
    "import matplotlib.pyplot as plt\n",
    "import pandas as pd"
   ]
  },
  {
   "cell_type": "markdown",
   "id": "b917deaf",
   "metadata": {},
   "source": [
    "# Snap files (hdf5)\n",
    "Alternatively to reading all the text output files, almost all of the data is stored in the `snap.40_[TIME].h5part` files, where the time corresponds to the time in nbody units (not physical units!). Let's have a look at the first snap file `snap.40_0.h5part`."
   ]
  },
  {
   "cell_type": "code",
   "execution_count": 2,
   "id": "a9f216d8",
   "metadata": {},
   "outputs": [],
   "source": [
    "# library for reading hdf5 in python\n",
    "import h5py"
   ]
  },
  {
   "cell_type": "code",
   "execution_count": 3,
   "id": "3a6443af",
   "metadata": {},
   "outputs": [],
   "source": [
    "# open one of the hdf5 files\n",
    "hdf = h5py.File((\"example_1k/snap.40_0.h5part\"), 'r')"
   ]
  },
  {
   "cell_type": "code",
   "execution_count": 4,
   "id": "5b220f99",
   "metadata": {},
   "outputs": [
    {
     "data": {
      "text/plain": [
       "<KeysViewHDF5 ['Step#0', 'Step#1', 'Step#10', 'Step#11', 'Step#12', 'Step#13', 'Step#14', 'Step#15', 'Step#16', 'Step#17', 'Step#18', 'Step#19', 'Step#2', 'Step#20', 'Step#21', 'Step#22', 'Step#23', 'Step#24', 'Step#25', 'Step#26', 'Step#27', 'Step#28', 'Step#29', 'Step#3', 'Step#30', 'Step#31', 'Step#32', 'Step#33', 'Step#34', 'Step#35', 'Step#36', 'Step#37', 'Step#38', 'Step#39', 'Step#4', 'Step#40', 'Step#41', 'Step#42', 'Step#43', 'Step#44', 'Step#45', 'Step#46', 'Step#47', 'Step#48', 'Step#49', 'Step#5', 'Step#50', 'Step#51', 'Step#52', 'Step#53', 'Step#54', 'Step#55', 'Step#56', 'Step#57', 'Step#58', 'Step#59', 'Step#6', 'Step#60', 'Step#61', 'Step#62', 'Step#63', 'Step#64', 'Step#7', 'Step#8', 'Step#9']>"
      ]
     },
     "execution_count": 4,
     "metadata": {},
     "output_type": "execute_result"
    }
   ],
   "source": [
    "# show contents\n",
    "hdf.keys()"
   ]
  },
  {
   "cell_type": "markdown",
   "id": "ac612072",
   "metadata": {},
   "source": [
    "Notice that `snap.40_[TIME].h5part` files are again subdivided into multiple steps. Let's have a look at one of the steps contents."
   ]
  },
  {
   "cell_type": "code",
   "execution_count": 5,
   "id": "a781e4e9",
   "metadata": {},
   "outputs": [
    {
     "data": {
      "text/plain": [
       "<KeysViewHDF5 ['000 Scalars', '001 X1', '002 X2', '003 X3', '004 V1', '005 V2', '006 V3', '007 A1', '008 A2', '009 A3', '010 AD1', '011 AD2', '012 AD3', '013 D21', '014 D22', '015 D23', '016 D31', '017 D32', '018 D33', '019 STEP', '020 STEPR', '021 T0', '022 T0R', '023 M', '024 NB-Sph', '025 POT', '026 R*', '027 L*', '028 Teff*', '029 RC*', '030 MC*', '031 KW', '032 Name', '033 Type']>"
      ]
     },
     "execution_count": 5,
     "metadata": {},
     "output_type": "execute_result"
    }
   ],
   "source": [
    "# List step contents\n",
    "hdf[\"Step#0\"].keys()"
   ]
  },
  {
   "cell_type": "markdown",
   "id": "6674edf1",
   "metadata": {},
   "source": [
    "These are now the datasets. As you can see this is a lot of data, as usual, consult the [nbody manual](https://github.com/kaiwu-astro/Nbody6PPGPU-beijing/tree/stable/doc), especially the chapter on HDF5 Output aobut more details on the datasets.\n",
    "\n",
    "Let's take a look at the Luminosity $L_*$ using the `027 L*` dataset"
   ]
  },
  {
   "cell_type": "code",
   "execution_count": 6,
   "id": "a6407f7c",
   "metadata": {},
   "outputs": [
    {
     "data": {
      "text/plain": [
       "<HDF5 dataset \"027 L*\": shape (1000,), type \"<f4\">"
      ]
     },
     "execution_count": 6,
     "metadata": {},
     "output_type": "execute_result"
    }
   ],
   "source": [
    "# python style\n",
    "hdf[\"Step#0\"][\"027 L*\"]"
   ]
  },
  {
   "cell_type": "markdown",
   "id": "b999104e",
   "metadata": {},
   "source": [
    "We can see it's a data set now, but we don't see it's content? We'll talk about it later. At least we see 1000 entries, corresponding to each star in the 1k example run.\n",
    "\n",
    "Instead of pythons list subindexing we can also use unix style paths to similary access the values in the hdf5 data."
   ]
  },
  {
   "cell_type": "code",
   "execution_count": 7,
   "id": "7372af2e",
   "metadata": {},
   "outputs": [
    {
     "data": {
      "text/plain": [
       "<HDF5 dataset \"027 L*\": shape (1000,), type \"<f4\">"
      ]
     },
     "execution_count": 7,
     "metadata": {},
     "output_type": "execute_result"
    }
   ],
   "source": [
    "# unix path style\n",
    "hdf[\"Step#0/027 L*\"]"
   ]
  },
  {
   "cell_type": "markdown",
   "id": "e082540d",
   "metadata": {},
   "source": [
    "Simple trick to see the contents. This is rarely needed, only if you want to take a look at the data"
   ]
  },
  {
   "cell_type": "code",
   "execution_count": null,
   "id": "fd7e220b",
   "metadata": {},
   "outputs": [],
   "source": [
    "# show contents\n",
    "hdf[\"Step#0/027 L*\"][:]"
   ]
  },
  {
   "cell_type": "markdown",
   "id": "61aa685d",
   "metadata": {},
   "source": [
    "# Energy time evolution (HDF5)\n",
    "As we can see from the [nbody manual](https://github.com/kaiwu-astro/Nbody6PPGPU-beijing/tree/stable/doc) or from the output above, we can get the potential from `025 POT`. For the kinetic energy we can use `023 M`, `004 V1`, `005 V2`, `006 V3` to do the calculations ourself.\n",
    "\n",
    "## Getting potential and kinetic energy\n",
    "First things first, let's do it just for one time step!"
   ]
  },
  {
   "cell_type": "code",
   "execution_count": 8,
   "id": "4703a464",
   "metadata": {},
   "outputs": [
    {
     "name": "stdout",
     "output_type": "stream",
     "text": [
      "EPOT -2622.835\n"
     ]
    }
   ],
   "source": [
    "# Just sum over all values in the pot dataset\n",
    "print(f\"EPOT\",np.sum(hdf[\"Step#0/025 POT\"]))"
   ]
  },
  {
   "cell_type": "markdown",
   "id": "e4ed300b",
   "metadata": {},
   "source": [
    "For the kinetic energy wee need to calculate the energy for each star first with $E_\\mathrm{kin} = \\frac{1}{2}mv^2$ using `Step#0/004 V1`, `Step#0/005 V2` and `Step#0/006 V3` for the velocieties and `Step#0/023 M` for the masses. Afterwars all the individual energies can be summed up"
   ]
  },
  {
   "cell_type": "code",
   "execution_count": 9,
   "id": "18daf6a2",
   "metadata": {},
   "outputs": [
    {
     "name": "stdout",
     "output_type": "stream",
     "text": [
      "EKIN 917.64856\n"
     ]
    }
   ],
   "source": [
    "# Sum over all individual kinetic energies\n",
    "EKIN = np.sum(\n",
    "    # v^2\n",
    "    np.power(hdf[\"Step#0/004 V1\"], 2) + \\\n",
    "            np.power(hdf[\"Step#0/005 V2\"], 2) + \\\n",
    "            np.power(hdf[\"Step#0/006 V3\"], 2) \\\n",
    "           \\\n",
    "        * 0.5 * hdf[\"Step#0/023 M\"] # 1/2 * M\n",
    ")\n",
    "\n",
    "print(f\"EKIN\",EKIN)"
   ]
  },
  {
   "cell_type": "markdown",
   "id": "329ad1aa",
   "metadata": {},
   "source": [
    "That looks okay! Let's go and extract more steps and more files!\n",
    "We'll use the `glob` libarary to automatically detect all the files for us\n",
    "\n",
    "## Getting time evolution of energy"
   ]
  },
  {
   "cell_type": "code",
   "execution_count": 10,
   "id": "c23fbb38",
   "metadata": {},
   "outputs": [],
   "source": [
    "import glob"
   ]
  },
  {
   "cell_type": "code",
   "execution_count": 11,
   "id": "eb3957b3",
   "metadata": {},
   "outputs": [
    {
     "data": {
      "text/plain": [
       "['example_1k/snap.40_12.h5part',\n",
       " 'example_1k/snap.40_0.h5part',\n",
       " 'example_1k/snap.40_1.h5part',\n",
       " 'example_1k/snap.40_10.h5part',\n",
       " 'example_1k/snap.40_11.h5part']"
      ]
     },
     "execution_count": 11,
     "metadata": {},
     "output_type": "execute_result"
    }
   ],
   "source": [
    "# show first 5 found files\n",
    "glob.glob(\"example_1k/snap.40_*\")[:5]"
   ]
  },
  {
   "cell_type": "markdown",
   "id": "96bed873",
   "metadata": {},
   "source": [
    "glob seems to find the files, (note that this purposly shows only the first 5 found files!). But hey? these file seem to be in an almost random order? Don't worry, later on we'll sort the data by time, leave it as it is for now."
   ]
  },
  {
   "cell_type": "code",
   "execution_count": 12,
   "id": "a2ea03f5",
   "metadata": {},
   "outputs": [
    {
     "data": {
      "text/html": [
       "<div>\n",
       "<style scoped>\n",
       "    .dataframe tbody tr th:only-of-type {\n",
       "        vertical-align: middle;\n",
       "    }\n",
       "\n",
       "    .dataframe tbody tr th {\n",
       "        vertical-align: top;\n",
       "    }\n",
       "\n",
       "    .dataframe thead th {\n",
       "        text-align: right;\n",
       "    }\n",
       "</style>\n",
       "<table border=\"1\" class=\"dataframe\">\n",
       "  <thead>\n",
       "    <tr style=\"text-align: right;\">\n",
       "      <th></th>\n",
       "      <th>EPOT</th>\n",
       "      <th>EKIN</th>\n",
       "    </tr>\n",
       "  </thead>\n",
       "  <tbody>\n",
       "  </tbody>\n",
       "</table>\n",
       "</div>"
      ],
      "text/plain": [
       "Empty DataFrame\n",
       "Columns: [EPOT, EKIN]\n",
       "Index: []"
      ]
     },
     "execution_count": 12,
     "metadata": {},
     "output_type": "execute_result"
    }
   ],
   "source": [
    "# initialize dataframe\n",
    "df = pd.DataFrame(columns=[\"EPOT\",\"EKIN\"])\n",
    "df"
   ]
  },
  {
   "cell_type": "markdown",
   "id": "5b8cd92f",
   "metadata": {},
   "source": [
    "The `df` DataFrame is empty for now, so let's fill it with some values!"
   ]
  },
  {
   "cell_type": "code",
   "execution_count": 13,
   "id": "50b7501f",
   "metadata": {},
   "outputs": [
    {
     "data": {
      "text/html": [
       "<div>\n",
       "<style scoped>\n",
       "    .dataframe tbody tr th:only-of-type {\n",
       "        vertical-align: middle;\n",
       "    }\n",
       "\n",
       "    .dataframe tbody tr th {\n",
       "        vertical-align: top;\n",
       "    }\n",
       "\n",
       "    .dataframe thead th {\n",
       "        text-align: right;\n",
       "    }\n",
       "</style>\n",
       "<table border=\"1\" class=\"dataframe\">\n",
       "  <thead>\n",
       "    <tr style=\"text-align: right;\">\n",
       "      <th></th>\n",
       "      <th>EPOT</th>\n",
       "      <th>EKIN</th>\n",
       "    </tr>\n",
       "  </thead>\n",
       "  <tbody>\n",
       "    <tr>\n",
       "      <th>0.000000</th>\n",
       "      <td>-2622.834961</td>\n",
       "      <td>917.648560</td>\n",
       "    </tr>\n",
       "    <tr>\n",
       "      <th>0.015625</th>\n",
       "      <td>-1917.351318</td>\n",
       "      <td>929.267456</td>\n",
       "    </tr>\n",
       "    <tr>\n",
       "      <th>0.156250</th>\n",
       "      <td>-1612.498291</td>\n",
       "      <td>881.794678</td>\n",
       "    </tr>\n",
       "    <tr>\n",
       "      <th>0.171875</th>\n",
       "      <td>-1355.787598</td>\n",
       "      <td>781.491699</td>\n",
       "    </tr>\n",
       "    <tr>\n",
       "      <th>0.187500</th>\n",
       "      <td>-1646.364502</td>\n",
       "      <td>942.886719</td>\n",
       "    </tr>\n",
       "    <tr>\n",
       "      <th>...</th>\n",
       "      <td>...</td>\n",
       "      <td>...</td>\n",
       "    </tr>\n",
       "    <tr>\n",
       "      <th>0.984375</th>\n",
       "      <td>-1115.298340</td>\n",
       "      <td>1008.267517</td>\n",
       "    </tr>\n",
       "    <tr>\n",
       "      <th>1.000000</th>\n",
       "      <td>-1437.316284</td>\n",
       "      <td>1193.342773</td>\n",
       "    </tr>\n",
       "    <tr>\n",
       "      <th>0.109375</th>\n",
       "      <td>-1420.866211</td>\n",
       "      <td>764.854004</td>\n",
       "    </tr>\n",
       "    <tr>\n",
       "      <th>0.125000</th>\n",
       "      <td>-1747.986572</td>\n",
       "      <td>912.352417</td>\n",
       "    </tr>\n",
       "    <tr>\n",
       "      <th>0.140625</th>\n",
       "      <td>-1377.795166</td>\n",
       "      <td>765.676208</td>\n",
       "    </tr>\n",
       "  </tbody>\n",
       "</table>\n",
       "<p>65 rows × 2 columns</p>\n",
       "</div>"
      ],
      "text/plain": [
       "                 EPOT         EKIN\n",
       "0.000000 -2622.834961   917.648560\n",
       "0.015625 -1917.351318   929.267456\n",
       "0.156250 -1612.498291   881.794678\n",
       "0.171875 -1355.787598   781.491699\n",
       "0.187500 -1646.364502   942.886719\n",
       "...               ...          ...\n",
       "0.984375 -1115.298340  1008.267517\n",
       "1.000000 -1437.316284  1193.342773\n",
       "0.109375 -1420.866211   764.854004\n",
       "0.125000 -1747.986572   912.352417\n",
       "0.140625 -1377.795166   765.676208\n",
       "\n",
       "[65 rows x 2 columns]"
      ]
     },
     "execution_count": 13,
     "metadata": {},
     "output_type": "execute_result"
    }
   ],
   "source": [
    "# work through all the snap files\n",
    "for snap_file in glob.glob(\"example_1k/snap.40_*\"):\n",
    "    hdf = h5py.File((\"example_1k/snap.40_0.h5part\"), 'r')\n",
    "    \n",
    "    # work through all the steps\n",
    "    for step in hdf.keys():\n",
    "        # calculate potential\n",
    "        EPOT = np.sum(hdf[f\"{step}/025 POT\"])\n",
    "\n",
    "        # calculate kinetic energy\n",
    "        EKIN = np.sum(\n",
    "                        # v^2\n",
    "                        np.power(hdf[f\"{step}/004 V1\"], 2) + \\\n",
    "                        np.power(hdf[f\"{step}/005 V2\"], 2) + \\\n",
    "                        np.power(hdf[f\"{step}/006 V3\"], 2) \\\n",
    "                        \\\n",
    "                        * 0.5 * hdf[f\"{step}/023 M\"] # 1/2 * M\n",
    "                )\n",
    "        # append data to our pandas DataFrame\n",
    "        # the hdf[f\"{step}/000 Scalars\"][0] part\n",
    "        # set's the index. This corresponds to the time\n",
    "        # in nbody units\n",
    "        df.loc[hdf[f\"{step}/000 Scalars\"][0]] = [EPOT,EKIN]\n",
    "        \n",
    "        \n",
    "        \n",
    "        \n",
    "    hdf.close()\n",
    "df"
   ]
  },
  {
   "cell_type": "markdown",
   "id": "3af4e1d2",
   "metadata": {},
   "source": [
    "Now we've successfully filled our data set! But if we look at the index, it's all messed up. Now's the time to sort it out!"
   ]
  },
  {
   "cell_type": "code",
   "execution_count": 14,
   "id": "d202c46c",
   "metadata": {},
   "outputs": [
    {
     "data": {
      "text/html": [
       "<div>\n",
       "<style scoped>\n",
       "    .dataframe tbody tr th:only-of-type {\n",
       "        vertical-align: middle;\n",
       "    }\n",
       "\n",
       "    .dataframe tbody tr th {\n",
       "        vertical-align: top;\n",
       "    }\n",
       "\n",
       "    .dataframe thead th {\n",
       "        text-align: right;\n",
       "    }\n",
       "</style>\n",
       "<table border=\"1\" class=\"dataframe\">\n",
       "  <thead>\n",
       "    <tr style=\"text-align: right;\">\n",
       "      <th></th>\n",
       "      <th>EPOT</th>\n",
       "      <th>EKIN</th>\n",
       "    </tr>\n",
       "  </thead>\n",
       "  <tbody>\n",
       "    <tr>\n",
       "      <th>0.000000</th>\n",
       "      <td>-2622.834961</td>\n",
       "      <td>917.648560</td>\n",
       "    </tr>\n",
       "    <tr>\n",
       "      <th>0.015625</th>\n",
       "      <td>-1917.351318</td>\n",
       "      <td>929.267456</td>\n",
       "    </tr>\n",
       "    <tr>\n",
       "      <th>0.031250</th>\n",
       "      <td>-1896.192871</td>\n",
       "      <td>914.130737</td>\n",
       "    </tr>\n",
       "    <tr>\n",
       "      <th>0.046875</th>\n",
       "      <td>-1602.325439</td>\n",
       "      <td>794.078491</td>\n",
       "    </tr>\n",
       "    <tr>\n",
       "      <th>0.062500</th>\n",
       "      <td>-1847.723389</td>\n",
       "      <td>911.370056</td>\n",
       "    </tr>\n",
       "    <tr>\n",
       "      <th>...</th>\n",
       "      <td>...</td>\n",
       "      <td>...</td>\n",
       "    </tr>\n",
       "    <tr>\n",
       "      <th>0.937500</th>\n",
       "      <td>-1396.262939</td>\n",
       "      <td>1142.266113</td>\n",
       "    </tr>\n",
       "    <tr>\n",
       "      <th>0.953125</th>\n",
       "      <td>-1133.887451</td>\n",
       "      <td>1014.003540</td>\n",
       "    </tr>\n",
       "    <tr>\n",
       "      <th>0.968750</th>\n",
       "      <td>-1296.095215</td>\n",
       "      <td>1083.789673</td>\n",
       "    </tr>\n",
       "    <tr>\n",
       "      <th>0.984375</th>\n",
       "      <td>-1115.298340</td>\n",
       "      <td>1008.267517</td>\n",
       "    </tr>\n",
       "    <tr>\n",
       "      <th>1.000000</th>\n",
       "      <td>-1437.316284</td>\n",
       "      <td>1193.342773</td>\n",
       "    </tr>\n",
       "  </tbody>\n",
       "</table>\n",
       "<p>65 rows × 2 columns</p>\n",
       "</div>"
      ],
      "text/plain": [
       "                 EPOT         EKIN\n",
       "0.000000 -2622.834961   917.648560\n",
       "0.015625 -1917.351318   929.267456\n",
       "0.031250 -1896.192871   914.130737\n",
       "0.046875 -1602.325439   794.078491\n",
       "0.062500 -1847.723389   911.370056\n",
       "...               ...          ...\n",
       "0.937500 -1396.262939  1142.266113\n",
       "0.953125 -1133.887451  1014.003540\n",
       "0.968750 -1296.095215  1083.789673\n",
       "0.984375 -1115.298340  1008.267517\n",
       "1.000000 -1437.316284  1193.342773\n",
       "\n",
       "[65 rows x 2 columns]"
      ]
     },
     "execution_count": 14,
     "metadata": {},
     "output_type": "execute_result"
    }
   ],
   "source": [
    "# inplace tells pandas to sort the dataframe directly\n",
    "# otherwise it would create a sorted copy.\n",
    "df.sort_index(inplace=True)\n",
    "df"
   ]
  },
  {
   "cell_type": "markdown",
   "id": "1400ab14",
   "metadata": {},
   "source": [
    "That looks better, go on plotting!"
   ]
  },
  {
   "cell_type": "code",
   "execution_count": 15,
   "id": "a21025bc",
   "metadata": {},
   "outputs": [
    {
     "data": {
      "image/png": "[encoded data removed]",
      "text/plain": [
       "<Figure size 432x288 with 1 Axes>"
      ]
     },
     "metadata": {
      "needs_background": "light"
     },
     "output_type": "display_data"
    }
   ],
   "source": [
    "# prepare plot\n",
    "fig = plt.figure()\n",
    "ax = fig.gca()\n",
    "\n",
    "# plot\n",
    "df.plot(ax=ax)\n",
    "\n",
    "# make the plot a little bit nicer\n",
    "ax.set_title(r\"Energy evolution\")\n",
    "ax.set_xlabel(r\"Time t [nbody units]\")\n",
    "ax.set_ylabel(r\"Energy E\")\n",
    "ax.grid()"
   ]
  },
  {
   "cell_type": "markdown",
   "id": "b6caf496",
   "metadata": {},
   "source": [
    "# Hertzsprung–Russell diagram (HDF5)\n",
    "From the output of `hdf[\"Step#[SOME_STEP]].keys()` (or the manual) we see the relevant data can be take directly from `028 Teff*` and `027 L*`"
   ]
  },
  {
   "cell_type": "code",
   "execution_count": 16,
   "id": "409b3087",
   "metadata": {},
   "outputs": [],
   "source": [
    "# as we've closed the hdf5 file in the loop above\n",
    "# we need to open it again\n",
    "hdf = h5py.File((\"example_1k/snap.40_0.h5part\"), 'r')"
   ]
  },
  {
   "cell_type": "code",
   "execution_count": 17,
   "id": "6f2af768",
   "metadata": {},
   "outputs": [
    {
     "data": {
      "image/png": "[encoded data removed]",
      "text/plain": [
       "<Figure size 432x288 with 1 Axes>"
      ]
     },
     "metadata": {
      "needs_background": "light"
     },
     "output_type": "display_data"
    }
   ],
   "source": [
    "# prepare figure\n",
    "fig = plt.figure()\n",
    "ax = fig.gca()\n",
    "\n",
    "# notice we can directly pass the data, \n",
    "# without using the [:] trick to show data.\n",
    "# Furthermore we'll calculate the log of the\n",
    "# values instead of setting y- and x-scale to a logscale.\n",
    "# Technically speaing it doesn't really matter.\n",
    "ax.scatter(np.log10(hdf[\"Step#0/028 Teff*\"]),\n",
    "           np.log10(hdf[\"Step#0/027 L*\"]))\n",
    "\n",
    "\n",
    "ax.set_title(\"Hertzsprung-Russel-Diagram\")\n",
    "# typical for HRDs\n",
    "ax.invert_xaxis()\n",
    "\n",
    "ax.set_xlabel(r\"$\\mathrm{log}_{10}(T_\\mathrm{eff}$ [K])\")\n",
    "ax.set_ylabel(r\"$\\mathrm{log}_{10}(L$ [$L_\\odot]$)\")\n",
    "ax.grid()"
   ]
  },
  {
   "cell_type": "markdown",
   "id": "0b719ad9",
   "metadata": {},
   "source": [
    "## Multiple HRDs"
   ]
  },
  {
   "cell_type": "code",
   "execution_count": 18,
   "id": "264d9605",
   "metadata": {
    "scrolled": true
   },
   "outputs": [
    {
     "data": {
      "image/png": "[encoded data removed]",
      "text/plain": [
       "<Figure size 864x1152 with 8 Axes>"
      ]
     },
     "metadata": {
      "needs_background": "light"
     },
     "output_type": "display_data"
    }
   ],
   "source": [
    "# Select files and steps to plot\n",
    "SNAP_FILES = [0,7,21,28]\n",
    "STEPS = [0,32]\n",
    "\n",
    "# initialize figure\n",
    "fig = plt.figure(figsize=(6*len(STEPS), 4*len(SNAP_FILES)))\n",
    "\n",
    "for snap_file in SNAP_FILES:\n",
    "    # load current file\n",
    "    hdf = h5py.File((f\"example_1k/snap.40_{snap_file}.h5part\"), 'r')\n",
    "    for step in STEPS:\n",
    "        # ad subplot for current file and step\n",
    "        ax = fig.add_subplot(len(SNAP_FILES),\n",
    "                             len(STEPS),\n",
    "                             (SNAP_FILES.index(snap_file)*len(STEPS)) + STEPS.index(step) + 1)\n",
    "        # plot current step\n",
    "        ax.scatter(np.log10(hdf[f\"Step#{step}/028 Teff*\"]),\n",
    "                   np.log10(hdf[f\"Step#{step}/027 L*\"]))\n",
    "        # get current time for current file and step\n",
    "        t = hdf[f\"Step#{step}/000 Scalars\"][0]\n",
    "        \n",
    "        # make plot a little bit nicer\n",
    "        ax.set_title(f\"Hertzsprung-Russel-Diagram at T = {t} [nbody units]\")\n",
    "        ax.invert_xaxis()\n",
    "\n",
    "        ax.set_xlabel(r\"$\\mathrm{log}_{10}(T_\\mathrm{eff}$ [K])\")\n",
    "        ax.set_ylabel(r\"$\\mathrm{log}_{10}(L$ [$L_\\odot]$)\")\n",
    "        ax.grid()\n",
    "    hdf.close()\n",
    "        \n",
    "fig.tight_layout()"
   ]
  }
 ],
 "metadata": {
  "kernelspec": {
   "display_name": "Python 3 (ipykernel)",
   "language": "python",
   "name": "python3"
  },
  "language_info": {
   "codemirror_mode": {
    "name": "ipython",
    "version": 3
   },
   "file_extension": ".py",
   "mimetype": "text/x-python",
   "name": "python",
   "nbconvert_exporter": "python",
   "pygments_lexer": "ipython3",
   "version": "3.10.5"
  }
 },
 "nbformat": 4,
 "nbformat_minor": 5
}
